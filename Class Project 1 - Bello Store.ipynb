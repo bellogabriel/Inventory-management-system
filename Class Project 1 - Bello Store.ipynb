{
 "cells": [
  {
   "cell_type": "code",
   "execution_count": 1,
   "id": "1691b352-96ee-41a9-b0ad-00412c2c4f08",
   "metadata": {},
   "outputs": [],
   "source": [
    "# create an empty dictionary for inventory - C\n",
    "import pandas as pd\n",
    "inventory = {}\n"
   ]
  },
  {
   "cell_type": "code",
   "execution_count": 7,
   "id": "dccbe2a4-8380-45a2-ae45-bb23e106379c",
   "metadata": {},
   "outputs": [
    {
     "name": "stdin",
     "output_type": "stream",
     "text": [
      "Enter the name of the item:  Milk\n",
      "Enter the quantity for Milk:  62\n"
     ]
    }
   ],
   "source": [
    "# populate the dictionary with items/quatity\n",
    "item_name = input('Enter the name of the item: ')\n",
    "quantity = input(\"Enter the quantity for {}: \".format(item_name))\n",
    "\n",
    "inventory[item_name] = quantity"
   ]
  },
  {
   "cell_type": "code",
   "execution_count": 9,
   "id": "87203037-6d55-431a-b6d1-58ba17e90fee",
   "metadata": {},
   "outputs": [
    {
     "name": "stdout",
     "output_type": "stream",
     "text": [
      "{'Bread': '45', 'Milk': '62'}\n"
     ]
    }
   ],
   "source": [
    "print(inventory)"
   ]
  },
  {
   "cell_type": "code",
   "execution_count": 15,
   "id": "ac405d2d-91d2-4289-96c7-7dfb88ef27fa",
   "metadata": {},
   "outputs": [
    {
     "data": {
      "text/html": [
       "<div>\n",
       "<style scoped>\n",
       "    .dataframe tbody tr th:only-of-type {\n",
       "        vertical-align: middle;\n",
       "    }\n",
       "\n",
       "    .dataframe tbody tr th {\n",
       "        vertical-align: top;\n",
       "    }\n",
       "\n",
       "    .dataframe thead th {\n",
       "        text-align: right;\n",
       "    }\n",
       "</style>\n",
       "<table border=\"1\" class=\"dataframe\">\n",
       "  <thead>\n",
       "    <tr style=\"text-align: right;\">\n",
       "      <th></th>\n",
       "      <th>Item</th>\n",
       "      <th>Quantity</th>\n",
       "    </tr>\n",
       "  </thead>\n",
       "  <tbody>\n",
       "    <tr>\n",
       "      <th>0</th>\n",
       "      <td>Bread</td>\n",
       "      <td>45</td>\n",
       "    </tr>\n",
       "    <tr>\n",
       "      <th>1</th>\n",
       "      <td>Milk</td>\n",
       "      <td>62</td>\n",
       "    </tr>\n",
       "  </tbody>\n",
       "</table>\n",
       "</div>"
      ],
      "text/plain": [
       "    Item Quantity\n",
       "0  Bread       45\n",
       "1   Milk       62"
      ]
     },
     "execution_count": 15,
     "metadata": {},
     "output_type": "execute_result"
    }
   ],
   "source": [
    "# read the dictionary - R\n",
    "inventory_df = pd.DataFrame(inventory.items(), columns = ['Item', 'Quantity'])\n",
    "inventory_df"
   ]
  },
  {
   "cell_type": "code",
   "execution_count": null,
   "id": "f171a5ee-d7a4-4803-9094-74df76a13a48",
   "metadata": {},
   "outputs": [],
   "source": [
    "# Update the Dictionary - U\n",
    "item_name = input('Enter the name of the item you want to update: ')\n",
    "quantity = input(\"Enter the quantity for {}: \".format(item_name))\n",
    "\n",
    "inventory[item_name] = quantity"
   ]
  },
  {
   "cell_type": "code",
   "execution_count": 26,
   "id": "5ccdf9c7-d431-44d2-92b7-92a1096af96a",
   "metadata": {},
   "outputs": [
    {
     "name": "stdin",
     "output_type": "stream",
     "text": [
      "Enter the name of the item you want to delete:  bread\n"
     ]
    },
    {
     "name": "stdout",
     "output_type": "stream",
     "text": [
      "bread is not currently in stock!\n"
     ]
    }
   ],
   "source": [
    "# Delete an item from the dictionary - D\n",
    "item_name = input(\"Enter the name of the item you want to delete: \")\n",
    "if item_name in inventory:\n",
    "    del inventory[item_name]\n",
    "    print(\"{} has been deleted successfully!\".format(item_name))\n",
    "else:\n",
    "    print(\"{} is not currently in stock!\".format(item_name))"
   ]
  },
  {
   "cell_type": "code",
   "execution_count": 42,
   "id": "3ecc735d-1a07-41b2-894c-61bd0c720aea",
   "metadata": {},
   "outputs": [
    {
     "name": "stdout",
     "output_type": "stream",
     "text": [
      "Welcome to Bello's Store of Electronic Gadgets\n"
     ]
    },
    {
     "name": "stdin",
     "output_type": "stream",
     "text": [
      "Type: add, update, view, delete or quit: \n",
      " view\n"
     ]
    },
    {
     "name": "stdout",
     "output_type": "stream",
     "text": [
      "                 Item Quantity\n",
      "0          Hp Laptops      152\n",
      "1        Apple laptop       75\n",
      "2            Chargers      278\n",
      "3      Wireless Mouse      174\n",
      "4         Wired Mouse       68\n",
      "5          Headphones       52\n",
      "6        Laptop stand      102\n",
      "7   External Keyboard       45\n",
      "8    External Monitor       25\n",
      "9           Mouse Pad      256\n",
      "10       Battery pack      131\n",
      "11               skin      521\n",
      "Above is the current stock of items in the shop \n",
      "\n"
     ]
    },
    {
     "name": "stdin",
     "output_type": "stream",
     "text": [
      "Type: add, update, view, delete or quit: \n",
      " quit\n"
     ]
    },
    {
     "name": "stdout",
     "output_type": "stream",
     "text": [
      "Thank you!, See you next time! \n",
      "\n"
     ]
    }
   ],
   "source": [
    "# Creating Our Store Inventory\n",
    "\n",
    "print(\"Welcome to Bello's Store of Electronic Gadgets\")\n",
    "\n",
    "while True:\n",
    "    response = input(\"Type: add, update, view, delete or quit: \\n\")\n",
    "    if response == \"add\":\n",
    "        item_name = input('Enter the name of the item: ')\n",
    "        quantity = input(\"Enter the quantity for {}: \".format(item_name))\n",
    "        inventory[item_name] = quantity\n",
    "        print(\"{} item with {} quantities has been added successfully! \\n\".format(item_name, quantity))\n",
    "        \n",
    "    elif response == \"view\":\n",
    "        inventory_df = pd.DataFrame(inventory.items(), columns = ['Item', 'Quantity'])\n",
    "        print(inventory_df)\n",
    "        print(\"Above is the current stock of items in the shop \\n\")\n",
    "\n",
    "    elif response == \"update\":\n",
    "        item_name = input('Enter the name of the item you want to update: ')\n",
    "        if item_name in inventory:\n",
    "            quantity = input(\"Enter the quantity for {}: \".format(item_name))\n",
    "            inventory[item_name] = quantity\n",
    "            print(\"{} item has been updated successfully, new stock count is {} quantity \\n\".format(item_name, quantity))\n",
    "        else:\n",
    "            print(\"Sorry! {} item is currently not in stock... Try adding it as a new item. \\n\".format(item_name))\n",
    "\n",
    "    elif response == \"delete\":\n",
    "        item_name = input(\"Enter the name of the item you want to delete: \")\n",
    "        if item_name in inventory:\n",
    "            del inventory[item_name]\n",
    "            print(\"{} has been deleted successfully! \\n\".format(item_name))\n",
    "        else:\n",
    "            print(\"{} is not currently in stock! \\n\".format(item_name))\n",
    "\n",
    "    elif response == \"quit\":\n",
    "        print(\"Thank you!, See you next time! \\n\")\n",
    "        break\n",
    "\n",
    "    else:\n",
    "        print(\"WRONG INPUT!!! Try Again \\n\")\n",
    "\n",
    "        "
   ]
  },
  {
   "cell_type": "code",
   "execution_count": null,
   "id": "629deaba-55fc-4353-89a9-64d1fbb6beac",
   "metadata": {},
   "outputs": [],
   "source": []
  },
  {
   "cell_type": "code",
   "execution_count": null,
   "id": "c4eff231-8132-4015-842e-4d8041806a23",
   "metadata": {},
   "outputs": [],
   "source": []
  },
  {
   "cell_type": "code",
   "execution_count": null,
   "id": "1043a5b0-4923-4354-b0cc-4050707fc685",
   "metadata": {},
   "outputs": [],
   "source": []
  },
  {
   "cell_type": "code",
   "execution_count": null,
   "id": "5eb3b7db-448d-4c0f-aa4b-e215aa1e030e",
   "metadata": {},
   "outputs": [],
   "source": []
  }
 ],
 "metadata": {
  "kernelspec": {
   "display_name": "Python [conda env:base] *",
   "language": "python",
   "name": "conda-base-py"
  },
  "language_info": {
   "codemirror_mode": {
    "name": "ipython",
    "version": 3
   },
   "file_extension": ".py",
   "mimetype": "text/x-python",
   "name": "python",
   "nbconvert_exporter": "python",
   "pygments_lexer": "ipython3",
   "version": "3.12.7"
  }
 },
 "nbformat": 4,
 "nbformat_minor": 5
}
